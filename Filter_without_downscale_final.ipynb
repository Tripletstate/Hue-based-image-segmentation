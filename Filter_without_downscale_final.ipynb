{
 "cells": [
  {
   "cell_type": "code",
   "execution_count": 10,
   "id": "c6ede526-0890-479c-8e99-6710c8d8e757",
   "metadata": {},
   "outputs": [
    {
     "name": "stdout",
     "output_type": "stream",
     "text": [
      "['C:\\\\Users\\\\tnerger\\\\Desktop\\\\Python\\\\ALL_FILEs', 'C:\\\\Users\\\\tnerger\\\\AppData\\\\Roaming\\\\Python\\\\Python39\\\\site-packages\\\\cv2', 'C:\\\\Users\\\\tnerger\\\\Miniconda3\\\\python39.zip', 'C:\\\\Users\\\\tnerger\\\\Miniconda3\\\\DLLs', 'C:\\\\Users\\\\tnerger\\\\Miniconda3\\\\lib', 'C:\\\\Users\\\\tnerger\\\\Miniconda3', '', 'C:\\\\Users\\\\tnerger\\\\AppData\\\\Roaming\\\\Python\\\\Python39\\\\site-packages', 'C:\\\\Users\\\\tnerger\\\\Miniconda3\\\\lib\\\\site-packages', 'C:\\\\Users\\\\tnerger\\\\Miniconda3\\\\lib\\\\site-packages\\\\win32', 'C:\\\\Users\\\\tnerger\\\\Miniconda3\\\\lib\\\\site-packages\\\\win32\\\\lib', 'C:\\\\Users\\\\tnerger\\\\Miniconda3\\\\lib\\\\site-packages\\\\Pythonwin']\n"
     ]
    },
    {
     "ename": "ImportError",
     "evalue": "ERROR: recursion is detected during loading of \"cv2\" binary extensions. Check OpenCV installation.",
     "output_type": "error",
     "traceback": [
      "\u001b[1;31m---------------------------------------------------------------------------\u001b[0m",
      "\u001b[1;31mImportError\u001b[0m                               Traceback (most recent call last)",
      "Input \u001b[1;32mIn [10]\u001b[0m, in \u001b[0;36m<cell line: 2>\u001b[1;34m()\u001b[0m\n\u001b[0;32m      1\u001b[0m \u001b[38;5;28;01mfrom\u001b[39;00m \u001b[38;5;21;01mPIL\u001b[39;00m \u001b[38;5;28;01mimport\u001b[39;00m Image\n\u001b[1;32m----> 2\u001b[0m \u001b[38;5;28;01mimport\u001b[39;00m \u001b[38;5;21;01mcv2\u001b[39;00m\n\u001b[0;32m      3\u001b[0m \u001b[38;5;28;01mimport\u001b[39;00m \u001b[38;5;21;01mnumpy\u001b[39;00m \u001b[38;5;28;01mas\u001b[39;00m \u001b[38;5;21;01mnp\u001b[39;00m\n\u001b[0;32m      4\u001b[0m \u001b[38;5;28;01mimport\u001b[39;00m \u001b[38;5;21;01mos\u001b[39;00m\n",
      "File \u001b[1;32m~\\Miniconda3\\lib\\site-packages\\cv2\\__init__.py:181\u001b[0m, in \u001b[0;36m<module>\u001b[1;34m\u001b[0m\n\u001b[0;32m    176\u001b[0m             \u001b[38;5;28;01mif\u001b[39;00m DEBUG: \u001b[38;5;28mprint\u001b[39m(\u001b[38;5;124m\"\u001b[39m\u001b[38;5;124mExtra Python code for\u001b[39m\u001b[38;5;124m\"\u001b[39m, submodule, \u001b[38;5;124m\"\u001b[39m\u001b[38;5;124mis loaded\u001b[39m\u001b[38;5;124m\"\u001b[39m)\n\u001b[0;32m    178\u001b[0m     \u001b[38;5;28;01mif\u001b[39;00m DEBUG: \u001b[38;5;28mprint\u001b[39m(\u001b[38;5;124m'\u001b[39m\u001b[38;5;124mOpenCV loader: DONE\u001b[39m\u001b[38;5;124m'\u001b[39m)\n\u001b[1;32m--> 181\u001b[0m \u001b[43mbootstrap\u001b[49m\u001b[43m(\u001b[49m\u001b[43m)\u001b[49m\n",
      "File \u001b[1;32m~\\Miniconda3\\lib\\site-packages\\cv2\\__init__.py:76\u001b[0m, in \u001b[0;36mbootstrap\u001b[1;34m()\u001b[0m\n\u001b[0;32m     74\u001b[0m \u001b[38;5;28;01mif\u001b[39;00m \u001b[38;5;28mhasattr\u001b[39m(sys, \u001b[38;5;124m'\u001b[39m\u001b[38;5;124mOpenCV_LOADER\u001b[39m\u001b[38;5;124m'\u001b[39m):\n\u001b[0;32m     75\u001b[0m     \u001b[38;5;28mprint\u001b[39m(sys\u001b[38;5;241m.\u001b[39mpath)\n\u001b[1;32m---> 76\u001b[0m     \u001b[38;5;28;01mraise\u001b[39;00m \u001b[38;5;167;01mImportError\u001b[39;00m(\u001b[38;5;124m'\u001b[39m\u001b[38;5;124mERROR: recursion is detected during loading of \u001b[39m\u001b[38;5;124m\"\u001b[39m\u001b[38;5;124mcv2\u001b[39m\u001b[38;5;124m\"\u001b[39m\u001b[38;5;124m binary extensions. Check OpenCV installation.\u001b[39m\u001b[38;5;124m'\u001b[39m)\n\u001b[0;32m     77\u001b[0m sys\u001b[38;5;241m.\u001b[39mOpenCV_LOADER \u001b[38;5;241m=\u001b[39m \u001b[38;5;28;01mTrue\u001b[39;00m\n\u001b[0;32m     79\u001b[0m DEBUG \u001b[38;5;241m=\u001b[39m \u001b[38;5;28;01mFalse\u001b[39;00m\n",
      "\u001b[1;31mImportError\u001b[0m: ERROR: recursion is detected during loading of \"cv2\" binary extensions. Check OpenCV installation."
     ]
    }
   ],
   "source": [
    "from PIL import Image\n",
    "import cv2\n",
    "import numpy as np\n",
    "import os\n",
    "\n",
    "def nothing(x):\n",
    "    pass\n",
    "\n",
    "# Initialize window for tracking\n",
    "cv2.namedWindow(\"Tracking\")\n",
    "cv2.resizeWindow(\"Tracking\", 800, 600)\n",
    "\n",
    "# Create trackbars, adjust the hue range from 0-359\n",
    "cv2.createTrackbar(\"LH\", \"Tracking\", 0, 359, nothing)\n",
    "cv2.createTrackbar(\"LS\", \"Tracking\", 0, 255, nothing)\n",
    "cv2.createTrackbar(\"LV\", \"Tracking\", 0, 255, nothing)\n",
    "cv2.createTrackbar(\"UH\", \"Tracking\", 359, 359, nothing) \n",
    "cv2.createTrackbar(\"US\", \"Tracking\", 255, 255, nothing)\n",
    "cv2.createTrackbar(\"UV\", \"Tracking\", 255, 255, nothing)\n",
    "\n",
    "\n",
    "image_path = # Modify this path to your image path\n",
    "\n",
    "# Open the image with PIL and convert to OpenCV format\n",
    "pil_image = Image.open(image_path)\n",
    "frame = np.array(pil_image)\n",
    "frame = frame[:, :, ::-1]  # Convert RGB to BGR\n",
    "\n",
    "# Check if image is loaded\n",
    "if frame is None:\n",
    "    print(\"Failed to load image.\")\n",
    "    exit()\n",
    "\n",
    "while True:\n",
    "    # Convert to HSV\n",
    "    hsv = cv2.cvtColor(frame, cv2.COLOR_BGR2HSV)\n",
    "\n",
    "    # Get trackbar values\n",
    "    l_h = cv2.getTrackbarPos(\"LH\", \"Tracking\")\n",
    "    l_s = cv2.getTrackbarPos(\"LS\", \"Tracking\")\n",
    "    l_v = cv2.getTrackbarPos(\"LV\", \"Tracking\")\n",
    "    u_h = cv2.getTrackbarPos(\"UH\", \"Tracking\")\n",
    "    u_s = cv2.getTrackbarPos(\"US\", \"Tracking\")\n",
    "    u_v = cv2.getTrackbarPos(\"UV\", \"Tracking\")\n",
    "\n",
    "    # Lower and Upper bounds\n",
    "    l_b = np.array([l_h, l_s, l_v])\n",
    "    u_b = np.array([u_h, u_s, u_v])\n",
    "\n",
    "    # Create mask and result\n",
    "    mask = cv2.inRange(hsv, l_b, u_b)\n",
    "    res = cv2.bitwise_and(frame, frame, mask=mask)\n",
    "\n",
    "    # Show images\n",
    "    cv2.imshow(\"Original\", frame)\n",
    "    cv2.imshow(\"Mask\", mask)\n",
    "    cv2.imshow(\"Result\", res)\n",
    "\n",
    "    # Check for keyboard input\n",
    "    key = cv2.waitKey(1)\n",
    "    if key == 27:  # ESC key\n",
    "        break\n",
    "    elif key == 32:  # Spacebar\n",
    "        # Save images\n",
    "        cv2.imwrite(image_path.replace('.JPG', '_Original.jpg'), frame)\n",
    "        cv2.imwrite(image_path.replace('.JPG', '_Mask.jpg'), mask)\n",
    "        cv2.imwrite(image_path.replace('.JPG', '_Result.jpg'), res)\n",
    "\n",
    "        # Save trackbar values to CSV\n",
    "        trackbar_values = [l_h, l_s, l_v, u_h, u_s, u_v]\n",
    "        csv_path = image_path.replace('.JPG', '_trackbar_values.csv')\n",
    "        with open(csv_path, 'w') as file:\n",
    "            file.write(\"LH,LS,LV,UH,US,UV\\n\")\n",
    "            file.write(','.join(map(str, trackbar_values)))\n",
    "        print(\"Images and CSV file saved\")\n",
    "\n",
    "# Cleanup\n",
    "cv2.destroyAllWindows()\n"
   ]
  },
  {
   "cell_type": "code",
   "execution_count": null,
   "id": "ab33848b-e0a6-42cb-9007-fdbc93cbdaae",
   "metadata": {},
   "outputs": [],
   "source": []
  }
 ],
 "metadata": {
  "kernelspec": {
   "display_name": "Python 3 (ipykernel)",
   "language": "python",
   "name": "python3"
  },
  "language_info": {
   "codemirror_mode": {
    "name": "ipython",
    "version": 3
   },
   "file_extension": ".py",
   "mimetype": "text/x-python",
   "name": "python",
   "nbconvert_exporter": "python",
   "pygments_lexer": "ipython3",
   "version": "3.9.5"
  }
 },
 "nbformat": 4,
 "nbformat_minor": 5
}
